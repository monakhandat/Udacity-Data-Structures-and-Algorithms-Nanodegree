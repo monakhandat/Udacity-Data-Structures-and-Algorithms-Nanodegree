{
 "cells": [
  {
   "cell_type": "code",
   "execution_count": 4,
   "metadata": {},
   "outputs": [
    {
     "name": "stdout",
     "output_type": "stream",
     "text": [
      "Passed for suffix:  .h\n",
      "Passed for suffix:  .c\n",
      "Passed for suffix:  .x\n",
      "Passed for suffix:  \n"
     ]
    }
   ],
   "source": [
    "\n",
    "import os\n",
    "\n",
    "def find_files(suffix, path,output_list):\n",
    "    \"\"\"\n",
    "    Find all files beneath path with file name suffix.\n",
    "\n",
    "    Note that a path may contain further subdirectories\n",
    "    and those subdirectories may also contain further subdirectories.\n",
    "\n",
    "    There are no limit to the depth of the subdirectories can be.\n",
    "\n",
    "    Args:\n",
    "      suffix(str): suffix if the file name to be found\n",
    "      path(str): path of the file system\n",
    "\n",
    "    Returns:\n",
    "       a list of paths\n",
    "    \"\"\"\n",
    "    \n",
    "    if os.path.exists(path):\n",
    "        \n",
    "        if not os.path.isfile(path):\n",
    "            path_list = os.listdir(path)\n",
    "           \n",
    "            for pathitem in path_list:\n",
    "               \n",
    "                if not os.path.isfile(pathitem):\n",
    "                    newpath = os.path.join(path,pathitem)\n",
    "                    find_files(suffix,newpath,output_list)\n",
    "                if pathitem.endswith(suffix):\n",
    "                    output_list.append(pathitem) \n",
    "                \n",
    "    return output_list\n",
    "\n",
    "\n",
    "def test_function(work_directory,suffix, solution):\n",
    "    \"\"\"\n",
    "    test function takes work_directory,suffix, solution as input and gives the test result as pass or fail\n",
    "    by comparing find_files output with expected output\n",
    "    This program is assumed to be in the testdir provided in the problem statement, so the solution is compared\n",
    "    with the results when current directory is testdir.\n",
    "    \"\"\"\n",
    "    if find_files(suffix,work_directory,list()) == solution:\n",
    "        print(\"Passed for suffix: \", suffix)\n",
    "    else:\n",
    "        print(\"Fail\")\n",
    "    \n",
    "    return\n",
    "\n",
    "current_work_directory = os.getcwd()\n",
    "# Test Case 1\n",
    "test_function(current_work_directory,\".h\", ['b.h', 'a.h', 't1.h', 'a.h'])\n",
    "\n",
    "# Test Case 2\n",
    "test_function(current_work_directory,\".c\", ['b.c', 't1.c', 'a.c', 'a.c'])\n",
    "\n",
    "# Test Case 3\n",
    "# Returns empty list if no file ends with given suffix\n",
    "test_function(current_work_directory,\".x\", [])\n",
    "\n",
    "# Test Case 4\n",
    "# On passing null string the function gets all files, folders and subfolders in the current working directory\n",
    "all_files_folders = ['.DS_Store','.gitkeep','subdir4','b.h','b.c','subsubdir1','subdir3','t1.c','.gitkeep',\n",
    "                     'subdir2','a.h','a.c','subdir5','File Recursion.ipynb','dsc.tar.gz','t1.h','a.h','a.c',\n",
    "                     'subdir1','File Recursion-checkpoint.ipynb','.ipynb_checkpoints','File_Recursion.py']\n",
    "\n",
    "test_function(current_work_directory,\"\", all_files_folders)\n",
    "\n",
    "# General testing of find_files\n",
    "output = find_files(\".c\",current_work_directory,list())\n",
    "\n",
    "\n",
    "\n",
    "\n"
   ]
  }
 ],
 "metadata": {
  "kernelspec": {
   "display_name": "Python 3",
   "language": "python",
   "name": "python3"
  },
  "language_info": {
   "codemirror_mode": {
    "name": "ipython",
    "version": 3
   },
   "file_extension": ".py",
   "mimetype": "text/x-python",
   "name": "python",
   "nbconvert_exporter": "python",
   "pygments_lexer": "ipython3",
   "version": "3.7.4"
  }
 },
 "nbformat": 4,
 "nbformat_minor": 2
}
